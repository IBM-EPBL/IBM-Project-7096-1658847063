{
 "cells": [
  {
   "cell_type": "code",
   "execution_count": 1,
   "id": "33e26adc",
   "metadata": {},
   "outputs": [],
   "source": [
    "import pandas as pd\n",
    "import numpy as np\n",
    "import matplotlib.pyplot as plt\n",
    "import seaborn as sns"
   ]
  },
  {
   "cell_type": "markdown",
   "id": "bb5bdb08",
   "metadata": {},
   "source": [
    "# Download the dataset"
   ]
  },
  {
   "cell_type": "markdown",
   "id": "d837b3d1",
   "metadata": {},
   "source": [
    "# 2. Loading the dataset"
   ]
  },
  {
   "cell_type": "code",
   "execution_count": 4,
   "id": "9ffa153e",
   "metadata": {},
   "outputs": [],
   "source": [
    "data=pd.read_csv(r\"C:\\Users\\LAVANYAA\\Downloads\\Mall_Customers.csv\")"
   ]
  },
  {
   "cell_type": "code",
   "execution_count": 5,
   "id": "17dfd853",
   "metadata": {},
   "outputs": [
    {
     "data": {
      "text/html": [
       "<div>\n",
       "<style scoped>\n",
       "    .dataframe tbody tr th:only-of-type {\n",
       "        vertical-align: middle;\n",
       "    }\n",
       "\n",
       "    .dataframe tbody tr th {\n",
       "        vertical-align: top;\n",
       "    }\n",
       "\n",
       "    .dataframe thead th {\n",
       "        text-align: right;\n",
       "    }\n",
       "</style>\n",
       "<table border=\"1\" class=\"dataframe\">\n",
       "  <thead>\n",
       "    <tr style=\"text-align: right;\">\n",
       "      <th></th>\n",
       "      <th>CustomerID</th>\n",
       "      <th>Gender</th>\n",
       "      <th>Age</th>\n",
       "      <th>Annual Income (k$)</th>\n",
       "      <th>Spending Score (1-100)</th>\n",
       "    </tr>\n",
       "  </thead>\n",
       "  <tbody>\n",
       "    <tr>\n",
       "      <th>0</th>\n",
       "      <td>1</td>\n",
       "      <td>Male</td>\n",
       "      <td>19</td>\n",
       "      <td>15</td>\n",
       "      <td>39</td>\n",
       "    </tr>\n",
       "    <tr>\n",
       "      <th>1</th>\n",
       "      <td>2</td>\n",
       "      <td>Male</td>\n",
       "      <td>21</td>\n",
       "      <td>15</td>\n",
       "      <td>81</td>\n",
       "    </tr>\n",
       "    <tr>\n",
       "      <th>2</th>\n",
       "      <td>3</td>\n",
       "      <td>Female</td>\n",
       "      <td>20</td>\n",
       "      <td>16</td>\n",
       "      <td>6</td>\n",
       "    </tr>\n",
       "    <tr>\n",
       "      <th>3</th>\n",
       "      <td>4</td>\n",
       "      <td>Female</td>\n",
       "      <td>23</td>\n",
       "      <td>16</td>\n",
       "      <td>77</td>\n",
       "    </tr>\n",
       "    <tr>\n",
       "      <th>4</th>\n",
       "      <td>5</td>\n",
       "      <td>Female</td>\n",
       "      <td>31</td>\n",
       "      <td>17</td>\n",
       "      <td>40</td>\n",
       "    </tr>\n",
       "  </tbody>\n",
       "</table>\n",
       "</div>"
      ],
      "text/plain": [
       "   CustomerID  Gender  Age  Annual Income (k$)  Spending Score (1-100)\n",
       "0           1    Male   19                  15                      39\n",
       "1           2    Male   21                  15                      81\n",
       "2           3  Female   20                  16                       6\n",
       "3           4  Female   23                  16                      77\n",
       "4           5  Female   31                  17                      40"
      ]
     },
     "execution_count": 5,
     "metadata": {},
     "output_type": "execute_result"
    }
   ],
   "source": [
    "data.head()"
   ]
  },
  {
   "cell_type": "markdown",
   "id": "29218b25",
   "metadata": {},
   "source": [
    "# 3.a. Univariate analysis"
   ]
  },
  {
   "cell_type": "code",
   "execution_count": 7,
   "id": "361e38fb",
   "metadata": {},
   "outputs": [
    {
     "data": {
      "text/html": [
       "<div>\n",
       "<style scoped>\n",
       "    .dataframe tbody tr th:only-of-type {\n",
       "        vertical-align: middle;\n",
       "    }\n",
       "\n",
       "    .dataframe tbody tr th {\n",
       "        vertical-align: top;\n",
       "    }\n",
       "\n",
       "    .dataframe thead th {\n",
       "        text-align: right;\n",
       "    }\n",
       "</style>\n",
       "<table border=\"1\" class=\"dataframe\">\n",
       "  <thead>\n",
       "    <tr style=\"text-align: right;\">\n",
       "      <th></th>\n",
       "      <th>CustomerID</th>\n",
       "      <th>Age</th>\n",
       "      <th>Annual Income (k$)</th>\n",
       "      <th>Spending Score (1-100)</th>\n",
       "    </tr>\n",
       "  </thead>\n",
       "  <tbody>\n",
       "    <tr>\n",
       "      <th>count</th>\n",
       "      <td>200.000000</td>\n",
       "      <td>200.000000</td>\n",
       "      <td>200.000000</td>\n",
       "      <td>200.000000</td>\n",
       "    </tr>\n",
       "    <tr>\n",
       "      <th>mean</th>\n",
       "      <td>100.500000</td>\n",
       "      <td>38.850000</td>\n",
       "      <td>60.560000</td>\n",
       "      <td>50.200000</td>\n",
       "    </tr>\n",
       "    <tr>\n",
       "      <th>std</th>\n",
       "      <td>57.879185</td>\n",
       "      <td>13.969007</td>\n",
       "      <td>26.264721</td>\n",
       "      <td>25.823522</td>\n",
       "    </tr>\n",
       "    <tr>\n",
       "      <th>min</th>\n",
       "      <td>1.000000</td>\n",
       "      <td>18.000000</td>\n",
       "      <td>15.000000</td>\n",
       "      <td>1.000000</td>\n",
       "    </tr>\n",
       "    <tr>\n",
       "      <th>25%</th>\n",
       "      <td>50.750000</td>\n",
       "      <td>28.750000</td>\n",
       "      <td>41.500000</td>\n",
       "      <td>34.750000</td>\n",
       "    </tr>\n",
       "    <tr>\n",
       "      <th>50%</th>\n",
       "      <td>100.500000</td>\n",
       "      <td>36.000000</td>\n",
       "      <td>61.500000</td>\n",
       "      <td>50.000000</td>\n",
       "    </tr>\n",
       "    <tr>\n",
       "      <th>75%</th>\n",
       "      <td>150.250000</td>\n",
       "      <td>49.000000</td>\n",
       "      <td>78.000000</td>\n",
       "      <td>73.000000</td>\n",
       "    </tr>\n",
       "    <tr>\n",
       "      <th>max</th>\n",
       "      <td>200.000000</td>\n",
       "      <td>70.000000</td>\n",
       "      <td>137.000000</td>\n",
       "      <td>99.000000</td>\n",
       "    </tr>\n",
       "  </tbody>\n",
       "</table>\n",
       "</div>"
      ],
      "text/plain": [
       "       CustomerID         Age  Annual Income (k$)  Spending Score (1-100)\n",
       "count  200.000000  200.000000          200.000000              200.000000\n",
       "mean   100.500000   38.850000           60.560000               50.200000\n",
       "std     57.879185   13.969007           26.264721               25.823522\n",
       "min      1.000000   18.000000           15.000000                1.000000\n",
       "25%     50.750000   28.750000           41.500000               34.750000\n",
       "50%    100.500000   36.000000           61.500000               50.000000\n",
       "75%    150.250000   49.000000           78.000000               73.000000\n",
       "max    200.000000   70.000000          137.000000               99.000000"
      ]
     },
     "execution_count": 7,
     "metadata": {},
     "output_type": "execute_result"
    }
   ],
   "source": [
    "data.describe()"
   ]
  },
  {
   "cell_type": "code",
   "execution_count": 8,
   "id": "e78680a6",
   "metadata": {},
   "outputs": [
    {
     "data": {
      "text/plain": [
       "<bound method NDFrame._add_numeric_operations.<locals>.skew of      CustomerID  Gender  Age  Annual Income (k$)  Spending Score (1-100)\n",
       "0             1    Male   19                  15                      39\n",
       "1             2    Male   21                  15                      81\n",
       "2             3  Female   20                  16                       6\n",
       "3             4  Female   23                  16                      77\n",
       "4             5  Female   31                  17                      40\n",
       "..          ...     ...  ...                 ...                     ...\n",
       "195         196  Female   35                 120                      79\n",
       "196         197  Female   45                 126                      28\n",
       "197         198    Male   32                 126                      74\n",
       "198         199    Male   32                 137                      18\n",
       "199         200    Male   30                 137                      83\n",
       "\n",
       "[200 rows x 5 columns]>"
      ]
     },
     "execution_count": 8,
     "metadata": {},
     "output_type": "execute_result"
    }
   ],
   "source": [
    "data.skew"
   ]
  },
  {
   "cell_type": "code",
   "execution_count": 9,
   "id": "58e64abf",
   "metadata": {},
   "outputs": [
    {
     "data": {
      "text/plain": [
       "<bound method NDFrame._add_numeric_operations.<locals>.kurt of      CustomerID  Gender  Age  Annual Income (k$)  Spending Score (1-100)\n",
       "0             1    Male   19                  15                      39\n",
       "1             2    Male   21                  15                      81\n",
       "2             3  Female   20                  16                       6\n",
       "3             4  Female   23                  16                      77\n",
       "4             5  Female   31                  17                      40\n",
       "..          ...     ...  ...                 ...                     ...\n",
       "195         196  Female   35                 120                      79\n",
       "196         197  Female   45                 126                      28\n",
       "197         198    Male   32                 126                      74\n",
       "198         199    Male   32                 137                      18\n",
       "199         200    Male   30                 137                      83\n",
       "\n",
       "[200 rows x 5 columns]>"
      ]
     },
     "execution_count": 9,
     "metadata": {},
     "output_type": "execute_result"
    }
   ],
   "source": [
    "data.kurtosis"
   ]
  },
  {
   "cell_type": "code",
   "execution_count": 10,
   "id": "ffcfdce1",
   "metadata": {},
   "outputs": [
    {
     "data": {
      "text/plain": [
       "<AxesSubplot:>"
      ]
     },
     "execution_count": 10,
     "metadata": {},
     "output_type": "execute_result"
    },
    {
     "data": {
      "image/png": "[encoded data removed]",
      "text/plain": [
       "<Figure size 432x288 with 1 Axes>"
      ]
     },
     "metadata": {
      "needs_background": "light"
     },
     "output_type": "display_data"
    }
   ],
   "source": [
    "data.boxplot(column=['Spending Score (1-100)'], grid=False, color='black')"
   ]
  },
  {
   "cell_type": "code",
   "execution_count": 11,
   "id": "dd58a48e",
   "metadata": {},
   "outputs": [
    {
     "data": {
      "text/plain": [
       "array([[<AxesSubplot:title={'center':'Annual Income (k$)'}>]],\n",
       "      dtype=object)"
      ]
     },
     "execution_count": 11,
     "metadata": {},
     "output_type": "execute_result"
    },
    {
     "data": {
      "image/png": "[encoded data removed]",
      "text/plain": [
       "<Figure size 432x288 with 1 Axes>"
      ]
     },
     "metadata": {
      "needs_background": "light"
     },
     "output_type": "display_data"
    }
   ],
   "source": [
    "data.hist(column='Annual Income (k$)', grid=False, edgecolor='black')"
   ]
  },
  {
   "cell_type": "code",
   "execution_count": 12,
   "id": "4532a395",
   "metadata": {},
   "outputs": [
    {
     "data": {
      "text/plain": [
       "<AxesSubplot:xlabel='Age', ylabel='Density'>"
      ]
     },
     "execution_count": 12,
     "metadata": {},
     "output_type": "execute_result"
    },
    {
     "data": {
      "image/png": "[encoded data removed]",
      "text/plain": [
       "<Figure size 432x288 with 1 Axes>"
      ]
     },
     "metadata": {
      "needs_background": "light"
     },
     "output_type": "display_data"
    }
   ],
   "source": [
    "sns.kdeplot(data['Age'],fill=True)"
   ]
  },
  {
   "cell_type": "code",
   "execution_count": 13,
   "id": "51091a5c",
   "metadata": {},
   "outputs": [
    {
     "name": "stderr",
     "output_type": "stream",
     "text": [
      "C:\\Users\\LAVANYAA\\anaconda3\\lib\\site-packages\\seaborn\\distributions.py:2557: FutureWarning: `distplot` is a deprecated function and will be removed in a future version. Please adapt your code to use either `displot` (a figure-level function with similar flexibility) or `histplot` (an axes-level function for histograms).\n",
      "  warnings.warn(msg, FutureWarning)\n"
     ]
    },
    {
     "data": {
      "text/plain": [
       "<AxesSubplot:xlabel='Spending Score (1-100)', ylabel='Density'>"
      ]
     },
     "execution_count": 13,
     "metadata": {},
     "output_type": "execute_result"
    },
    {
     "data": {
      "image/png": "[encoded data removed]",
      "text/plain": [
       "<Figure size 432x288 with 1 Axes>"
      ]
     },
     "metadata": {
      "needs_background": "light"
     },
     "output_type": "display_data"
    }
   ],
   "source": [
    "sns.distplot(data['Spending Score (1-100)'])"
   ]
  },
  {
   "cell_type": "markdown",
   "id": "c91d2e8a",
   "metadata": {},
   "source": [
    "# 3.b. Bivariate analysis"
   ]
  },
  {
   "cell_type": "code",
   "execution_count": 15,
   "id": "74a9ffa4",
   "metadata": {},
   "outputs": [
    {
     "data": {
      "text/plain": [
       "Text(0, 0.5, 'Gender')"
      ]
     },
     "execution_count": 15,
     "metadata": {},
     "output_type": "execute_result"
    },
    {
     "data": {
      "image/png": "[encoded data removed]",
      "text/plain": [
       "<Figure size 432x288 with 1 Axes>"
      ]
     },
     "metadata": {
      "needs_background": "light"
     },
     "output_type": "display_data"
    }
   ],
   "source": [
    "plt.scatter(data.Age,data.Gender)\n",
    "plt.title('Age vs. Gender')\n",
    "plt.xlabel('Age')\n",
    "plt.ylabel('Gender')"
   ]
  },
  {
   "cell_type": "code",
   "execution_count": 16,
   "id": "d3535c93",
   "metadata": {},
   "outputs": [
    {
     "data": {
      "text/html": [
       "<div>\n",
       "<style scoped>\n",
       "    .dataframe tbody tr th:only-of-type {\n",
       "        vertical-align: middle;\n",
       "    }\n",
       "\n",
       "    .dataframe tbody tr th {\n",
       "        vertical-align: top;\n",
       "    }\n",
       "\n",
       "    .dataframe thead th {\n",
       "        text-align: right;\n",
       "    }\n",
       "</style>\n",
       "<table border=\"1\" class=\"dataframe\">\n",
       "  <thead>\n",
       "    <tr style=\"text-align: right;\">\n",
       "      <th></th>\n",
       "      <th>CustomerID</th>\n",
       "      <th>Age</th>\n",
       "      <th>Annual Income (k$)</th>\n",
       "      <th>Spending Score (1-100)</th>\n",
       "    </tr>\n",
       "  </thead>\n",
       "  <tbody>\n",
       "    <tr>\n",
       "      <th>CustomerID</th>\n",
       "      <td>1.000000</td>\n",
       "      <td>-0.026763</td>\n",
       "      <td>0.977548</td>\n",
       "      <td>0.013835</td>\n",
       "    </tr>\n",
       "    <tr>\n",
       "      <th>Age</th>\n",
       "      <td>-0.026763</td>\n",
       "      <td>1.000000</td>\n",
       "      <td>-0.012398</td>\n",
       "      <td>-0.327227</td>\n",
       "    </tr>\n",
       "    <tr>\n",
       "      <th>Annual Income (k$)</th>\n",
       "      <td>0.977548</td>\n",
       "      <td>-0.012398</td>\n",
       "      <td>1.000000</td>\n",
       "      <td>0.009903</td>\n",
       "    </tr>\n",
       "    <tr>\n",
       "      <th>Spending Score (1-100)</th>\n",
       "      <td>0.013835</td>\n",
       "      <td>-0.327227</td>\n",
       "      <td>0.009903</td>\n",
       "      <td>1.000000</td>\n",
       "    </tr>\n",
       "  </tbody>\n",
       "</table>\n",
       "</div>"
      ],
      "text/plain": [
       "                        CustomerID       Age  Annual Income (k$)  \\\n",
       "CustomerID                1.000000 -0.026763            0.977548   \n",
       "Age                      -0.026763  1.000000           -0.012398   \n",
       "Annual Income (k$)        0.977548 -0.012398            1.000000   \n",
       "Spending Score (1-100)    0.013835 -0.327227            0.009903   \n",
       "\n",
       "                        Spending Score (1-100)  \n",
       "CustomerID                            0.013835  \n",
       "Age                                  -0.327227  \n",
       "Annual Income (k$)                    0.009903  \n",
       "Spending Score (1-100)                1.000000  "
      ]
     },
     "execution_count": 16,
     "metadata": {},
     "output_type": "execute_result"
    }
   ],
   "source": [
    "data.corr()"
   ]
  },
  {
   "cell_type": "code",
   "execution_count": 17,
   "id": "6655d0e2",
   "metadata": {},
   "outputs": [
    {
     "name": "stderr",
     "output_type": "stream",
     "text": [
      "C:\\Users\\LAVANYAA\\anaconda3\\lib\\site-packages\\seaborn\\_decorators.py:36: FutureWarning: Pass the following variables as keyword args: x, y. From version 0.12, the only valid positional argument will be `data`, and passing other arguments without an explicit keyword will result in an error or misinterpretation.\n",
      "  warnings.warn(\n"
     ]
    },
    {
     "data": {
      "text/plain": [
       "<seaborn.axisgrid.JointGrid at 0x1d5c5416ee0>"
      ]
     },
     "execution_count": 17,
     "metadata": {},
     "output_type": "execute_result"
    },
    {
     "data": {
      "image/png": "[encoded data removed]",
      "text/plain": [
       "<Figure size 432x432 with 3 Axes>"
      ]
     },
     "metadata": {
      "needs_background": "light"
     },
     "output_type": "display_data"
    }
   ],
   "source": [
    "sns.jointplot(data['Annual Income (k$)'],data['Spending Score (1-100)'])"
   ]
  },
  {
   "cell_type": "markdown",
   "id": "26d09bd2",
   "metadata": {},
   "source": [
    "# 3.c. Multivariate analysis"
   ]
  },
  {
   "cell_type": "code",
   "execution_count": 18,
   "id": "41fcc281",
   "metadata": {},
   "outputs": [
    {
     "data": {
      "text/plain": [
       "<seaborn.axisgrid.PairGrid at 0x1d5c56dd730>"
      ]
     },
     "execution_count": 18,
     "metadata": {},
     "output_type": "execute_result"
    },
    {
     "data": {
      "image/png": "[encoded data removed]",
      "text/plain": [
       "<Figure size 720x720 with 20 Axes>"
      ]
     },
     "metadata": {
      "needs_background": "light"
     },
     "output_type": "display_data"
    }
   ],
   "source": [
    "sns.pairplot(data)"
   ]
  },
  {
   "cell_type": "markdown",
   "id": "f8959303",
   "metadata": {},
   "source": [
    "# 4.Perform descriptive statistics on the dataset"
   ]
  },
  {
   "cell_type": "code",
   "execution_count": 20,
   "id": "08c573a9",
   "metadata": {},
   "outputs": [
    {
     "name": "stdout",
     "output_type": "stream",
     "text": [
      "<class 'pandas.core.frame.DataFrame'>\n",
      "RangeIndex: 200 entries, 0 to 199\n",
      "Data columns (total 5 columns):\n",
      " #   Column                  Non-Null Count  Dtype \n",
      "---  ------                  --------------  ----- \n",
      " 0   CustomerID              200 non-null    int64 \n",
      " 1   Gender                  200 non-null    object\n",
      " 2   Age                     200 non-null    int64 \n",
      " 3   Annual Income (k$)      200 non-null    int64 \n",
      " 4   Spending Score (1-100)  200 non-null    int64 \n",
      "dtypes: int64(4), object(1)\n",
      "memory usage: 7.9+ KB\n"
     ]
    }
   ],
   "source": [
    "data.info()"
   ]
  },
  {
   "cell_type": "code",
   "execution_count": 21,
   "id": "27326520",
   "metadata": {},
   "outputs": [
    {
     "data": {
      "text/plain": [
       "1      1\n",
       "138    1\n",
       "128    1\n",
       "129    1\n",
       "130    1\n",
       "      ..\n",
       "70     1\n",
       "71     1\n",
       "72     1\n",
       "73     1\n",
       "200    1\n",
       "Name: CustomerID, Length: 200, dtype: int64"
      ]
     },
     "execution_count": 21,
     "metadata": {},
     "output_type": "execute_result"
    }
   ],
   "source": [
    "data['CustomerID'].value_counts()"
   ]
  },
  {
   "cell_type": "code",
   "execution_count": 22,
   "id": "f80100ab",
   "metadata": {},
   "outputs": [
    {
     "data": {
      "text/plain": [
       "-0.047220201374263374"
      ]
     },
     "execution_count": 22,
     "metadata": {},
     "output_type": "execute_result"
    }
   ],
   "source": [
    "data['Spending Score (1-100)'].skew()"
   ]
  },
  {
   "cell_type": "code",
   "execution_count": 23,
   "id": "7628ae84",
   "metadata": {},
   "outputs": [
    {
     "data": {
      "text/plain": [
       "-0.09848708652696203"
      ]
     },
     "execution_count": 23,
     "metadata": {},
     "output_type": "execute_result"
    }
   ],
   "source": [
    "data['Annual Income (k$)'].kurtosis()"
   ]
  },
  {
   "cell_type": "markdown",
   "id": "58d66d54",
   "metadata": {},
   "source": [
    "# 5. Check for Missing values and deal with them"
   ]
  },
  {
   "cell_type": "code",
   "execution_count": 24,
   "id": "11892e0b",
   "metadata": {},
   "outputs": [
    {
     "data": {
      "text/plain": [
       "CustomerID                0\n",
       "Gender                    0\n",
       "Age                       0\n",
       "Annual Income (k$)        0\n",
       "Spending Score (1-100)    0\n",
       "dtype: int64"
      ]
     },
     "execution_count": 24,
     "metadata": {},
     "output_type": "execute_result"
    }
   ],
   "source": [
    "data.isna().sum()"
   ]
  },
  {
   "cell_type": "markdown",
   "id": "5df59a49",
   "metadata": {},
   "source": [
    "# 6.Find the outliers and replace the outliers"
   ]
  },
  {
   "cell_type": "code",
   "execution_count": 26,
   "id": "c396a811",
   "metadata": {},
   "outputs": [
    {
     "name": "stderr",
     "output_type": "stream",
     "text": [
      "C:\\Users\\LAVANYAA\\anaconda3\\lib\\site-packages\\seaborn\\_decorators.py:36: FutureWarning: Pass the following variable as a keyword arg: x. From version 0.12, the only valid positional argument will be `data`, and passing other arguments without an explicit keyword will result in an error or misinterpretation.\n",
      "  warnings.warn(\n"
     ]
    },
    {
     "data": {
      "text/plain": [
       "<AxesSubplot:xlabel='Age'>"
      ]
     },
     "execution_count": 26,
     "metadata": {},
     "output_type": "execute_result"
    },
    {
     "data": {
      "image/png": "[encoded data removed]",
      "text/plain": [
       "<Figure size 432x288 with 1 Axes>"
      ]
     },
     "metadata": {
      "needs_background": "light"
     },
     "output_type": "display_data"
    }
   ],
   "source": [
    "sns.boxplot(data['Age'])"
   ]
  },
  {
   "cell_type": "code",
   "execution_count": 27,
   "id": "88a981c3",
   "metadata": {},
   "outputs": [],
   "source": [
    "q1=data['Age'].quantile(0.25)\n",
    "q3=data['Age'].quantile(0.75)\n",
    "iqr=q3-q1\n",
    "upper=q3+(1.5*iqr)\n",
    "lower=q1-(1.5*iqr)"
   ]
  },
  {
   "cell_type": "code",
   "execution_count": 28,
   "id": "fa56fa84",
   "metadata": {},
   "outputs": [
    {
     "data": {
      "text/html": [
       "<div>\n",
       "<style scoped>\n",
       "    .dataframe tbody tr th:only-of-type {\n",
       "        vertical-align: middle;\n",
       "    }\n",
       "\n",
       "    .dataframe tbody tr th {\n",
       "        vertical-align: top;\n",
       "    }\n",
       "\n",
       "    .dataframe thead th {\n",
       "        text-align: right;\n",
       "    }\n",
       "</style>\n",
       "<table border=\"1\" class=\"dataframe\">\n",
       "  <thead>\n",
       "    <tr style=\"text-align: right;\">\n",
       "      <th></th>\n",
       "      <th>CustomerID</th>\n",
       "      <th>Gender</th>\n",
       "      <th>Age</th>\n",
       "      <th>Annual Income (k$)</th>\n",
       "      <th>Spending Score (1-100)</th>\n",
       "    </tr>\n",
       "  </thead>\n",
       "  <tbody>\n",
       "  </tbody>\n",
       "</table>\n",
       "</div>"
      ],
      "text/plain": [
       "Empty DataFrame\n",
       "Columns: [CustomerID, Gender, Age, Annual Income (k$), Spending Score (1-100)]\n",
       "Index: []"
      ]
     },
     "execution_count": 28,
     "metadata": {},
     "output_type": "execute_result"
    }
   ],
   "source": [
    "data.loc[(data['Age']>upper)|(data['Age']<lower)]"
   ]
  },
  {
   "cell_type": "code",
   "execution_count": 29,
   "id": "84a67b02",
   "metadata": {},
   "outputs": [],
   "source": [
    "new=data.loc[(data['Age']>upper)|(data['Age']<lower)]"
   ]
  },
  {
   "cell_type": "code",
   "execution_count": 30,
   "id": "7056d295",
   "metadata": {},
   "outputs": [],
   "source": [
    "new=data.copy()\n",
    "new.loc[(new['Age']>upper),'Age']=upper\n",
    "new.loc[(new['Age']<lower),'Age']=lower"
   ]
  },
  {
   "cell_type": "code",
   "execution_count": 31,
   "id": "eaaffafd",
   "metadata": {},
   "outputs": [
    {
     "name": "stderr",
     "output_type": "stream",
     "text": [
      "C:\\Users\\LAVANYAA\\anaconda3\\lib\\site-packages\\seaborn\\_decorators.py:36: FutureWarning: Pass the following variable as a keyword arg: x. From version 0.12, the only valid positional argument will be `data`, and passing other arguments without an explicit keyword will result in an error or misinterpretation.\n",
      "  warnings.warn(\n"
     ]
    },
    {
     "data": {
      "text/plain": [
       "<AxesSubplot:xlabel='Age'>"
      ]
     },
     "execution_count": 31,
     "metadata": {},
     "output_type": "execute_result"
    },
    {
     "data": {
      "image/png": "[encoded data removed]",
      "text/plain": [
       "<Figure size 432x288 with 1 Axes>"
      ]
     },
     "metadata": {
      "needs_background": "light"
     },
     "output_type": "display_data"
    }
   ],
   "source": [
    "sns.boxplot(new['Age'])"
   ]
  },
  {
   "cell_type": "markdown",
   "id": "f5473b2f",
   "metadata": {},
   "source": [
    "# 7. Check for Categorical columns and perform encoding"
   ]
  },
  {
   "cell_type": "code",
   "execution_count": 33,
   "id": "70b35f24",
   "metadata": {},
   "outputs": [
    {
     "data": {
      "text/html": [
       "<div>\n",
       "<style scoped>\n",
       "    .dataframe tbody tr th:only-of-type {\n",
       "        vertical-align: middle;\n",
       "    }\n",
       "\n",
       "    .dataframe tbody tr th {\n",
       "        vertical-align: top;\n",
       "    }\n",
       "\n",
       "    .dataframe thead th {\n",
       "        text-align: right;\n",
       "    }\n",
       "</style>\n",
       "<table border=\"1\" class=\"dataframe\">\n",
       "  <thead>\n",
       "    <tr style=\"text-align: right;\">\n",
       "      <th></th>\n",
       "      <th>CustomerID</th>\n",
       "      <th>Gender</th>\n",
       "      <th>Age</th>\n",
       "      <th>Annual Income (k$)</th>\n",
       "      <th>Spending Score (1-100)</th>\n",
       "    </tr>\n",
       "  </thead>\n",
       "  <tbody>\n",
       "    <tr>\n",
       "      <th>0</th>\n",
       "      <td>1</td>\n",
       "      <td>Male</td>\n",
       "      <td>19</td>\n",
       "      <td>15</td>\n",
       "      <td>39</td>\n",
       "    </tr>\n",
       "    <tr>\n",
       "      <th>1</th>\n",
       "      <td>2</td>\n",
       "      <td>Male</td>\n",
       "      <td>21</td>\n",
       "      <td>15</td>\n",
       "      <td>81</td>\n",
       "    </tr>\n",
       "    <tr>\n",
       "      <th>2</th>\n",
       "      <td>3</td>\n",
       "      <td>Female</td>\n",
       "      <td>20</td>\n",
       "      <td>16</td>\n",
       "      <td>6</td>\n",
       "    </tr>\n",
       "    <tr>\n",
       "      <th>3</th>\n",
       "      <td>4</td>\n",
       "      <td>Female</td>\n",
       "      <td>23</td>\n",
       "      <td>16</td>\n",
       "      <td>77</td>\n",
       "    </tr>\n",
       "    <tr>\n",
       "      <th>4</th>\n",
       "      <td>5</td>\n",
       "      <td>Female</td>\n",
       "      <td>31</td>\n",
       "      <td>17</td>\n",
       "      <td>40</td>\n",
       "    </tr>\n",
       "  </tbody>\n",
       "</table>\n",
       "</div>"
      ],
      "text/plain": [
       "   CustomerID  Gender  Age  Annual Income (k$)  Spending Score (1-100)\n",
       "0           1    Male   19                  15                      39\n",
       "1           2    Male   21                  15                      81\n",
       "2           3  Female   20                  16                       6\n",
       "3           4  Female   23                  16                      77\n",
       "4           5  Female   31                  17                      40"
      ]
     },
     "execution_count": 33,
     "metadata": {},
     "output_type": "execute_result"
    }
   ],
   "source": [
    "data.head()"
   ]
  },
  {
   "cell_type": "code",
   "execution_count": 34,
   "id": "7a668035",
   "metadata": {},
   "outputs": [],
   "source": [
    "data['Gender'].replace({'Male':1,'Female':0},inplace=True)"
   ]
  },
  {
   "cell_type": "code",
   "execution_count": 35,
   "id": "bd066287",
   "metadata": {},
   "outputs": [
    {
     "data": {
      "text/html": [
       "<div>\n",
       "<style scoped>\n",
       "    .dataframe tbody tr th:only-of-type {\n",
       "        vertical-align: middle;\n",
       "    }\n",
       "\n",
       "    .dataframe tbody tr th {\n",
       "        vertical-align: top;\n",
       "    }\n",
       "\n",
       "    .dataframe thead th {\n",
       "        text-align: right;\n",
       "    }\n",
       "</style>\n",
       "<table border=\"1\" class=\"dataframe\">\n",
       "  <thead>\n",
       "    <tr style=\"text-align: right;\">\n",
       "      <th></th>\n",
       "      <th>CustomerID</th>\n",
       "      <th>Gender</th>\n",
       "      <th>Age</th>\n",
       "      <th>Annual Income (k$)</th>\n",
       "      <th>Spending Score (1-100)</th>\n",
       "    </tr>\n",
       "  </thead>\n",
       "  <tbody>\n",
       "    <tr>\n",
       "      <th>0</th>\n",
       "      <td>1</td>\n",
       "      <td>1</td>\n",
       "      <td>19</td>\n",
       "      <td>15</td>\n",
       "      <td>39</td>\n",
       "    </tr>\n",
       "    <tr>\n",
       "      <th>1</th>\n",
       "      <td>2</td>\n",
       "      <td>1</td>\n",
       "      <td>21</td>\n",
       "      <td>15</td>\n",
       "      <td>81</td>\n",
       "    </tr>\n",
       "    <tr>\n",
       "      <th>2</th>\n",
       "      <td>3</td>\n",
       "      <td>0</td>\n",
       "      <td>20</td>\n",
       "      <td>16</td>\n",
       "      <td>6</td>\n",
       "    </tr>\n",
       "    <tr>\n",
       "      <th>3</th>\n",
       "      <td>4</td>\n",
       "      <td>0</td>\n",
       "      <td>23</td>\n",
       "      <td>16</td>\n",
       "      <td>77</td>\n",
       "    </tr>\n",
       "    <tr>\n",
       "      <th>4</th>\n",
       "      <td>5</td>\n",
       "      <td>0</td>\n",
       "      <td>31</td>\n",
       "      <td>17</td>\n",
       "      <td>40</td>\n",
       "    </tr>\n",
       "    <tr>\n",
       "      <th>...</th>\n",
       "      <td>...</td>\n",
       "      <td>...</td>\n",
       "      <td>...</td>\n",
       "      <td>...</td>\n",
       "      <td>...</td>\n",
       "    </tr>\n",
       "    <tr>\n",
       "      <th>195</th>\n",
       "      <td>196</td>\n",
       "      <td>0</td>\n",
       "      <td>35</td>\n",
       "      <td>120</td>\n",
       "      <td>79</td>\n",
       "    </tr>\n",
       "    <tr>\n",
       "      <th>196</th>\n",
       "      <td>197</td>\n",
       "      <td>0</td>\n",
       "      <td>45</td>\n",
       "      <td>126</td>\n",
       "      <td>28</td>\n",
       "    </tr>\n",
       "    <tr>\n",
       "      <th>197</th>\n",
       "      <td>198</td>\n",
       "      <td>1</td>\n",
       "      <td>32</td>\n",
       "      <td>126</td>\n",
       "      <td>74</td>\n",
       "    </tr>\n",
       "    <tr>\n",
       "      <th>198</th>\n",
       "      <td>199</td>\n",
       "      <td>1</td>\n",
       "      <td>32</td>\n",
       "      <td>137</td>\n",
       "      <td>18</td>\n",
       "    </tr>\n",
       "    <tr>\n",
       "      <th>199</th>\n",
       "      <td>200</td>\n",
       "      <td>1</td>\n",
       "      <td>30</td>\n",
       "      <td>137</td>\n",
       "      <td>83</td>\n",
       "    </tr>\n",
       "  </tbody>\n",
       "</table>\n",
       "<p>200 rows × 5 columns</p>\n",
       "</div>"
      ],
      "text/plain": [
       "     CustomerID  Gender  Age  Annual Income (k$)  Spending Score (1-100)\n",
       "0             1       1   19                  15                      39\n",
       "1             2       1   21                  15                      81\n",
       "2             3       0   20                  16                       6\n",
       "3             4       0   23                  16                      77\n",
       "4             5       0   31                  17                      40\n",
       "..          ...     ...  ...                 ...                     ...\n",
       "195         196       0   35                 120                      79\n",
       "196         197       0   45                 126                      28\n",
       "197         198       1   32                 126                      74\n",
       "198         199       1   32                 137                      18\n",
       "199         200       1   30                 137                      83\n",
       "\n",
       "[200 rows x 5 columns]"
      ]
     },
     "execution_count": 35,
     "metadata": {},
     "output_type": "execute_result"
    }
   ],
   "source": [
    "data"
   ]
  },
  {
   "cell_type": "markdown",
   "id": "022132d7",
   "metadata": {},
   "source": [
    "# 8. Scaling the data"
   ]
  },
  {
   "cell_type": "code",
   "execution_count": 36,
   "id": "d8b54fe4",
   "metadata": {},
   "outputs": [],
   "source": [
    "from sklearn import linear_model\n",
    "from sklearn.preprocessing import StandardScaler\n",
    "scale = StandardScaler()"
   ]
  },
  {
   "cell_type": "code",
   "execution_count": 37,
   "id": "16769de4",
   "metadata": {},
   "outputs": [],
   "source": [
    "X = data[['Age', 'Annual Income (k$)']]\n",
    "y = data['Spending Score (1-100)']"
   ]
  },
  {
   "cell_type": "code",
   "execution_count": 38,
   "id": "37eaaa58",
   "metadata": {},
   "outputs": [],
   "source": [
    "scaledX = scale.fit_transform(X)"
   ]
  },
  {
   "cell_type": "code",
   "execution_count": 39,
   "id": "8be25cb4",
   "metadata": {},
   "outputs": [
    {
     "data": {
      "text/plain": [
       "LinearRegression()"
      ]
     },
     "execution_count": 39,
     "metadata": {},
     "output_type": "execute_result"
    }
   ],
   "source": [
    "regr = linear_model.LinearRegression()\n",
    "regr.fit(scaledX, y)"
   ]
  },
  {
   "cell_type": "code",
   "execution_count": 40,
   "id": "979f27c0",
   "metadata": {},
   "outputs": [
    {
     "name": "stdout",
     "output_type": "stream",
     "text": [
      "[-1317.65536776]\n"
     ]
    }
   ],
   "source": [
    "scaled = scale.transform([[2300, 1.3]])\n",
    "\n",
    "predicted = regr.predict([scaled[0]])\n",
    "print(predicted)"
   ]
  },
  {
   "cell_type": "markdown",
   "id": "20619307",
   "metadata": {},
   "source": [
    "# 9. Perform any of the clustering algorithms"
   ]
  },
  {
   "cell_type": "code",
   "execution_count": 41,
   "id": "505a450e",
   "metadata": {},
   "outputs": [],
   "source": [
    "from sklearn.preprocessing import MinMaxScaler"
   ]
  },
  {
   "cell_type": "code",
   "execution_count": 42,
   "id": "88ef69ca",
   "metadata": {},
   "outputs": [],
   "source": [
    "sc=MinMaxScaler()"
   ]
  },
  {
   "cell_type": "code",
   "execution_count": 43,
   "id": "1d4e2d9d",
   "metadata": {},
   "outputs": [],
   "source": [
    "dt=sc.fit_transform(data.iloc[:,1:])"
   ]
  },
  {
   "cell_type": "code",
   "execution_count": 44,
   "id": "36802c97",
   "metadata": {},
   "outputs": [
    {
     "data": {
      "text/plain": [
       "array([[1.        , 0.01923077, 0.        , 0.3877551 ],\n",
       "       [1.        , 0.05769231, 0.        , 0.81632653],\n",
       "       [0.        , 0.03846154, 0.00819672, 0.05102041],\n",
       "       [0.        , 0.09615385, 0.00819672, 0.7755102 ],\n",
       "       [0.        , 0.25      , 0.01639344, 0.39795918],\n",
       "       [0.        , 0.07692308, 0.01639344, 0.76530612],\n",
       "       [0.        , 0.32692308, 0.02459016, 0.05102041],\n",
       "       [0.        , 0.09615385, 0.02459016, 0.94897959],\n",
       "       [1.        , 0.88461538, 0.03278689, 0.02040816],\n",
       "       [0.        , 0.23076923, 0.03278689, 0.7244898 ],\n",
       "       [1.        , 0.94230769, 0.03278689, 0.13265306],\n",
       "       [0.        , 0.32692308, 0.03278689, 1.        ],\n",
       "       [0.        , 0.76923077, 0.04098361, 0.14285714],\n",
       "       [0.        , 0.11538462, 0.04098361, 0.7755102 ],\n",
       "       [1.        , 0.36538462, 0.04098361, 0.12244898],\n",
       "       [1.        , 0.07692308, 0.04098361, 0.79591837],\n",
       "       [0.        , 0.32692308, 0.04918033, 0.34693878],\n",
       "       [1.        , 0.03846154, 0.04918033, 0.66326531],\n",
       "       [1.        , 0.65384615, 0.06557377, 0.28571429],\n",
       "       [0.        , 0.32692308, 0.06557377, 0.98979592],\n",
       "       [1.        , 0.32692308, 0.07377049, 0.34693878],\n",
       "       [1.        , 0.13461538, 0.07377049, 0.73469388],\n",
       "       [0.        , 0.53846154, 0.08196721, 0.04081633],\n",
       "       [1.        , 0.25      , 0.08196721, 0.73469388],\n",
       "       [0.        , 0.69230769, 0.10655738, 0.13265306],\n",
       "       [1.        , 0.21153846, 0.10655738, 0.82653061],\n",
       "       [0.        , 0.51923077, 0.10655738, 0.31632653],\n",
       "       [1.        , 0.32692308, 0.10655738, 0.6122449 ],\n",
       "       [0.        , 0.42307692, 0.1147541 , 0.30612245],\n",
       "       [0.        , 0.09615385, 0.1147541 , 0.87755102],\n",
       "       [1.        , 0.80769231, 0.12295082, 0.03061224],\n",
       "       [0.        , 0.05769231, 0.12295082, 0.73469388],\n",
       "       [1.        , 0.67307692, 0.14754098, 0.03061224],\n",
       "       [1.        , 0.        , 0.14754098, 0.92857143],\n",
       "       [0.        , 0.59615385, 0.14754098, 0.13265306],\n",
       "       [0.        , 0.05769231, 0.14754098, 0.81632653],\n",
       "       [0.        , 0.46153846, 0.1557377 , 0.16326531],\n",
       "       [0.        , 0.23076923, 0.1557377 , 0.73469388],\n",
       "       [0.        , 0.34615385, 0.18032787, 0.25510204],\n",
       "       [0.        , 0.03846154, 0.18032787, 0.75510204],\n",
       "       [0.        , 0.90384615, 0.18852459, 0.34693878],\n",
       "       [1.        , 0.11538462, 0.18852459, 0.92857143],\n",
       "       [1.        , 0.57692308, 0.19672131, 0.35714286],\n",
       "       [0.        , 0.25      , 0.19672131, 0.6122449 ],\n",
       "       [0.        , 0.59615385, 0.19672131, 0.2755102 ],\n",
       "       [0.        , 0.11538462, 0.19672131, 0.65306122],\n",
       "       [0.        , 0.61538462, 0.20491803, 0.55102041],\n",
       "       [0.        , 0.17307692, 0.20491803, 0.46938776],\n",
       "       [0.        , 0.21153846, 0.20491803, 0.41836735],\n",
       "       [0.        , 0.25      , 0.20491803, 0.41836735],\n",
       "       [0.        , 0.59615385, 0.22131148, 0.52040816],\n",
       "       [1.        , 0.28846154, 0.22131148, 0.60204082],\n",
       "       [0.        , 0.25      , 0.2295082 , 0.54081633],\n",
       "       [1.        , 0.78846154, 0.2295082 , 0.60204082],\n",
       "       [0.        , 0.61538462, 0.2295082 , 0.44897959],\n",
       "       [1.        , 0.55769231, 0.2295082 , 0.40816327],\n",
       "       [0.        , 0.63461538, 0.23770492, 0.5       ],\n",
       "       [1.        , 0.98076923, 0.23770492, 0.45918367],\n",
       "       [0.        , 0.17307692, 0.25409836, 0.51020408],\n",
       "       [1.        , 0.67307692, 0.25409836, 0.45918367],\n",
       "       [1.        , 1.        , 0.25409836, 0.56122449],\n",
       "       [1.        , 0.01923077, 0.25409836, 0.55102041],\n",
       "       [0.        , 0.94230769, 0.26229508, 0.52040816],\n",
       "       [0.        , 0.69230769, 0.26229508, 0.59183673],\n",
       "       [1.        , 0.86538462, 0.2704918 , 0.51020408],\n",
       "       [1.        , 0.        , 0.2704918 , 0.59183673],\n",
       "       [0.        , 0.48076923, 0.2704918 , 0.5       ],\n",
       "       [0.        , 0.96153846, 0.2704918 , 0.47959184],\n",
       "       [1.        , 0.01923077, 0.2704918 , 0.59183673],\n",
       "       [0.        , 0.26923077, 0.2704918 , 0.46938776],\n",
       "       [1.        , 1.        , 0.27868852, 0.55102041],\n",
       "       [0.        , 0.55769231, 0.27868852, 0.41836735],\n",
       "       [0.        , 0.80769231, 0.28688525, 0.48979592],\n",
       "       [0.        , 0.80769231, 0.28688525, 0.56122449],\n",
       "       [1.        , 0.78846154, 0.31967213, 0.46938776],\n",
       "       [1.        , 0.15384615, 0.31967213, 0.54081633],\n",
       "       [0.        , 0.51923077, 0.31967213, 0.53061224],\n",
       "       [1.        , 0.42307692, 0.31967213, 0.47959184],\n",
       "       [0.        , 0.09615385, 0.31967213, 0.52040816],\n",
       "       [0.        , 0.59615385, 0.31967213, 0.41836735],\n",
       "       [1.        , 0.75      , 0.31967213, 0.51020408],\n",
       "       [1.        , 0.38461538, 0.31967213, 0.55102041],\n",
       "       [1.        , 0.94230769, 0.31967213, 0.40816327],\n",
       "       [0.        , 0.53846154, 0.31967213, 0.43877551],\n",
       "       [0.        , 0.05769231, 0.31967213, 0.57142857],\n",
       "       [1.        , 0.57692308, 0.31967213, 0.45918367],\n",
       "       [0.        , 0.71153846, 0.3442623 , 0.58163265],\n",
       "       [0.        , 0.07692308, 0.3442623 , 0.55102041],\n",
       "       [0.        , 0.30769231, 0.35245902, 0.60204082],\n",
       "       [0.        , 0.61538462, 0.35245902, 0.45918367],\n",
       "       [0.        , 0.96153846, 0.36065574, 0.55102041],\n",
       "       [1.        , 0.        , 0.36065574, 0.40816327],\n",
       "       [1.        , 0.57692308, 0.36885246, 0.48979592],\n",
       "       [0.        , 0.42307692, 0.36885246, 0.39795918],\n",
       "       [0.        , 0.26923077, 0.36885246, 0.41836735],\n",
       "       [1.        , 0.11538462, 0.36885246, 0.52040816],\n",
       "       [0.        , 0.55769231, 0.36885246, 0.46938776],\n",
       "       [0.        , 0.17307692, 0.36885246, 0.5       ],\n",
       "       [1.        , 0.57692308, 0.37704918, 0.41836735],\n",
       "       [1.        , 0.03846154, 0.37704918, 0.48979592],\n",
       "       [0.        , 0.09615385, 0.3852459 , 0.40816327],\n",
       "       [0.        , 0.59615385, 0.3852459 , 0.47959184],\n",
       "       [1.        , 0.94230769, 0.3852459 , 0.59183673],\n",
       "       [1.        , 0.15384615, 0.3852459 , 0.55102041],\n",
       "       [1.        , 0.59615385, 0.3852459 , 0.56122449],\n",
       "       [0.        , 0.05769231, 0.3852459 , 0.41836735],\n",
       "       [0.        , 0.92307692, 0.39344262, 0.5       ],\n",
       "       [1.        , 0.69230769, 0.39344262, 0.45918367],\n",
       "       [1.        , 0.96153846, 0.39344262, 0.42857143],\n",
       "       [1.        , 0.92307692, 0.39344262, 0.47959184],\n",
       "       [1.        , 0.90384615, 0.39344262, 0.52040816],\n",
       "       [0.        , 0.01923077, 0.39344262, 0.54081633],\n",
       "       [0.        , 0.38461538, 0.40163934, 0.41836735],\n",
       "       [1.        , 0.01923077, 0.40163934, 0.45918367],\n",
       "       [0.        , 0.        , 0.40983607, 0.47959184],\n",
       "       [0.        , 0.01923077, 0.40983607, 0.5       ],\n",
       "       [0.        , 0.86538462, 0.40983607, 0.42857143],\n",
       "       [0.        , 0.59615385, 0.40983607, 0.59183673],\n",
       "       [0.        , 0.63461538, 0.42622951, 0.42857143],\n",
       "       [0.        , 0.61538462, 0.42622951, 0.57142857],\n",
       "       [1.        , 0.17307692, 0.42622951, 0.56122449],\n",
       "       [0.        , 0.38461538, 0.42622951, 0.39795918],\n",
       "       [0.        , 0.42307692, 0.44262295, 0.58163265],\n",
       "       [1.        , 0.40384615, 0.44262295, 0.91836735],\n",
       "       [0.        , 0.09615385, 0.45081967, 0.28571429],\n",
       "       [0.        , 0.25      , 0.45081967, 0.7755102 ],\n",
       "       [1.        , 0.48076923, 0.45901639, 0.34693878],\n",
       "       [1.        , 0.42307692, 0.45901639, 0.95918367],\n",
       "       [1.        , 0.78846154, 0.45901639, 0.10204082],\n",
       "       [1.        , 0.38461538, 0.45901639, 0.75510204],\n",
       "       [1.        , 0.55769231, 0.45901639, 0.08163265],\n",
       "       [1.        , 0.40384615, 0.45901639, 0.75510204],\n",
       "       [0.        , 0.13461538, 0.46721311, 0.33673469],\n",
       "       [0.        , 0.25      , 0.46721311, 0.71428571],\n",
       "       [1.        , 0.03846154, 0.47540984, 0.04081633],\n",
       "       [0.        , 0.21153846, 0.47540984, 0.8877551 ],\n",
       "       [0.        , 0.5       , 0.47540984, 0.06122449],\n",
       "       [1.        , 0.26923077, 0.47540984, 0.73469388],\n",
       "       [1.        , 0.01923077, 0.48360656, 0.09183673],\n",
       "       [0.        , 0.32692308, 0.48360656, 0.7244898 ],\n",
       "       [0.        , 0.75      , 0.49180328, 0.04081633],\n",
       "       [1.        , 0.26923077, 0.49180328, 0.93877551],\n",
       "       [0.        , 0.19230769, 0.5       , 0.39795918],\n",
       "       [0.        , 0.26923077, 0.5       , 0.87755102],\n",
       "       [1.        , 0.13461538, 0.50819672, 0.1122449 ],\n",
       "       [1.        , 0.19230769, 0.50819672, 0.97959184],\n",
       "       [1.        , 0.57692308, 0.50819672, 0.35714286],\n",
       "       [0.        , 0.26923077, 0.50819672, 0.74489796],\n",
       "       [0.        , 0.30769231, 0.51639344, 0.21428571],\n",
       "       [1.        , 0.30769231, 0.51639344, 0.90816327],\n",
       "       [1.        , 0.48076923, 0.51639344, 0.16326531],\n",
       "       [1.        , 0.40384615, 0.51639344, 0.8877551 ],\n",
       "       [0.        , 0.5       , 0.51639344, 0.19387755],\n",
       "       [0.        , 0.38461538, 0.51639344, 0.76530612],\n",
       "       [0.        , 0.55769231, 0.51639344, 0.15306122],\n",
       "       [0.        , 0.17307692, 0.51639344, 0.89795918],\n",
       "       [1.        , 0.36538462, 0.51639344, 0.        ],\n",
       "       [0.        , 0.23076923, 0.51639344, 0.78571429],\n",
       "       [1.        , 0.30769231, 0.51639344, 0.        ],\n",
       "       [0.        , 0.23076923, 0.51639344, 0.73469388],\n",
       "       [0.        , 0.73076923, 0.52459016, 0.34693878],\n",
       "       [0.        , 0.21153846, 0.52459016, 0.83673469],\n",
       "       [1.        , 0.01923077, 0.54098361, 0.04081633],\n",
       "       [0.        , 0.25      , 0.54098361, 0.93877551],\n",
       "       [1.        , 0.61538462, 0.57377049, 0.25510204],\n",
       "       [0.        , 0.34615385, 0.57377049, 0.75510204],\n",
       "       [1.        , 0.46153846, 0.58196721, 0.19387755],\n",
       "       [0.        , 0.28846154, 0.58196721, 0.95918367],\n",
       "       [0.        , 0.34615385, 0.59016393, 0.26530612],\n",
       "       [1.        , 0.26923077, 0.59016393, 0.63265306],\n",
       "       [1.        , 0.42307692, 0.59016393, 0.12244898],\n",
       "       [1.        , 0.19230769, 0.59016393, 0.75510204],\n",
       "       [1.        , 0.34615385, 0.59016393, 0.09183673],\n",
       "       [1.        , 0.34615385, 0.59016393, 0.92857143],\n",
       "       [0.        , 0.65384615, 0.59836066, 0.12244898],\n",
       "       [0.        , 0.23076923, 0.59836066, 0.86734694],\n",
       "       [1.        , 0.76923077, 0.59836066, 0.14285714],\n",
       "       [1.        , 0.17307692, 0.59836066, 0.69387755],\n",
       "       [1.        , 0.78846154, 0.63934426, 0.13265306],\n",
       "       [1.        , 0.32692308, 0.63934426, 0.90816327],\n",
       "       [0.        , 0.36538462, 0.67213115, 0.31632653],\n",
       "       [0.        , 0.26923077, 0.67213115, 0.86734694],\n",
       "       [1.        , 0.53846154, 0.68032787, 0.14285714],\n",
       "       [0.        , 0.21153846, 0.68032787, 0.8877551 ],\n",
       "       [0.        , 0.44230769, 0.68852459, 0.3877551 ],\n",
       "       [1.        , 0.23076923, 0.68852459, 0.97959184],\n",
       "       [0.        , 0.69230769, 0.70491803, 0.23469388],\n",
       "       [1.        , 0.19230769, 0.70491803, 0.68367347],\n",
       "       [0.        , 0.44230769, 0.72131148, 0.16326531],\n",
       "       [0.        , 0.34615385, 0.72131148, 0.85714286],\n",
       "       [0.        , 0.30769231, 0.72131148, 0.2244898 ],\n",
       "       [0.        , 0.26923077, 0.72131148, 0.69387755],\n",
       "       [1.        , 0.28846154, 0.80327869, 0.07142857],\n",
       "       [0.        , 0.38461538, 0.80327869, 0.91836735],\n",
       "       [0.        , 0.55769231, 0.86065574, 0.15306122],\n",
       "       [0.        , 0.32692308, 0.86065574, 0.79591837],\n",
       "       [0.        , 0.51923077, 0.90983607, 0.2755102 ],\n",
       "       [1.        , 0.26923077, 0.90983607, 0.74489796],\n",
       "       [1.        , 0.26923077, 1.        , 0.17346939],\n",
       "       [1.        , 0.23076923, 1.        , 0.83673469]])"
      ]
     },
     "execution_count": 44,
     "metadata": {},
     "output_type": "execute_result"
    }
   ],
   "source": [
    "dt"
   ]
  },
  {
   "cell_type": "code",
   "execution_count": 45,
   "id": "d1d1200f",
   "metadata": {},
   "outputs": [],
   "source": [
    "from sklearn.cluster import KMeans"
   ]
  },
  {
   "cell_type": "code",
   "execution_count": 46,
   "id": "cba4a598",
   "metadata": {},
   "outputs": [],
   "source": [
    "TWSS=[]\n",
    "k=list(range(2,9))\n",
    "\n",
    "for i in k:\n",
    "    kmeans=KMeans(n_clusters=i,init='k-means++')\n",
    "    kmeans.fit(data)\n",
    "    TWSS.append(kmeans.inertia_)"
   ]
  },
  {
   "cell_type": "code",
   "execution_count": 47,
   "id": "b7c17a66",
   "metadata": {},
   "outputs": [
    {
     "data": {
      "text/plain": [
       "[387065.7137713772,\n",
       " 271396.5629660314,\n",
       " 195401.19855991477,\n",
       " 157183.29637394776,\n",
       " 122628.0624055683,\n",
       " 103151.40750360748,\n",
       " 86075.03422198715]"
      ]
     },
     "execution_count": 47,
     "metadata": {},
     "output_type": "execute_result"
    }
   ],
   "source": [
    "TWSS"
   ]
  },
  {
   "cell_type": "code",
   "execution_count": 48,
   "id": "2ebe289e",
   "metadata": {},
   "outputs": [
    {
     "data": {
      "text/plain": [
       "Text(0, 0.5, 'TWSS')"
      ]
     },
     "execution_count": 48,
     "metadata": {},
     "output_type": "execute_result"
    },
    {
     "data": {
      "image/png": "[encoded data removed]",
      "text/plain": [
       "<Figure size 432x288 with 1 Axes>"
      ]
     },
     "metadata": {
      "needs_background": "light"
     },
     "output_type": "display_data"
    }
   ],
   "source": [
    "plt.plot(k,TWSS,'ro--')\n",
    "plt.xlabel('no of cluster')\n",
    "plt.ylabel('TWSS')"
   ]
  },
  {
   "cell_type": "code",
   "execution_count": 49,
   "id": "93aa5603",
   "metadata": {},
   "outputs": [
    {
     "data": {
      "text/plain": [
       "KMeans(n_clusters=4)"
      ]
     },
     "execution_count": 49,
     "metadata": {},
     "output_type": "execute_result"
    }
   ],
   "source": [
    "model=KMeans(n_clusters=4)\n",
    "\n",
    "model.fit(data)"
   ]
  },
  {
   "cell_type": "code",
   "execution_count": 50,
   "id": "5d85bb8f",
   "metadata": {},
   "outputs": [
    {
     "data": {
      "text/plain": [
       "array([1, 1, 1, 1, 1, 1, 1, 1, 1, 1, 1, 1, 1, 1, 1, 1, 1, 1, 1, 1, 1, 1,\n",
       "       1, 1, 1, 1, 1, 1, 1, 1, 1, 1, 1, 1, 1, 1, 1, 1, 1, 1, 1, 1, 1, 1,\n",
       "       1, 1, 1, 1, 1, 1, 1, 1, 1, 1, 1, 1, 1, 2, 1, 2, 2, 1, 2, 2, 2, 2,\n",
       "       2, 2, 2, 2, 2, 2, 2, 2, 2, 2, 2, 2, 2, 2, 2, 2, 2, 2, 2, 2, 2, 2,\n",
       "       2, 2, 2, 2, 2, 2, 2, 2, 2, 2, 2, 2, 2, 2, 2, 2, 2, 2, 2, 2, 2, 2,\n",
       "       2, 2, 2, 2, 2, 2, 2, 2, 2, 2, 2, 2, 2, 3, 2, 3, 2, 3, 0, 3, 0, 3,\n",
       "       0, 3, 0, 3, 0, 3, 0, 3, 0, 3, 0, 3, 0, 3, 0, 3, 0, 3, 0, 3, 0, 3,\n",
       "       0, 3, 0, 3, 0, 3, 0, 3, 0, 3, 0, 3, 0, 3, 0, 3, 0, 3, 0, 3, 0, 3,\n",
       "       0, 3, 0, 3, 0, 3, 0, 3, 0, 3, 0, 3, 0, 3, 0, 3, 0, 3, 0, 3, 0, 3,\n",
       "       0, 3])"
      ]
     },
     "execution_count": 50,
     "metadata": {},
     "output_type": "execute_result"
    }
   ],
   "source": [
    "model.labels_"
   ]
  },
  {
   "cell_type": "code",
   "execution_count": 51,
   "id": "df361298",
   "metadata": {},
   "outputs": [],
   "source": [
    "mb=pd.Series(model.labels_)"
   ]
  },
  {
   "cell_type": "code",
   "execution_count": 52,
   "id": "653d088c",
   "metadata": {},
   "outputs": [],
   "source": [
    "data['clust']=mb"
   ]
  },
  {
   "cell_type": "code",
   "execution_count": 56,
   "id": "988748b1",
   "metadata": {},
   "outputs": [
    {
     "data": {
      "text/html": [
       "<div>\n",
       "<style scoped>\n",
       "    .dataframe tbody tr th:only-of-type {\n",
       "        vertical-align: middle;\n",
       "    }\n",
       "\n",
       "    .dataframe tbody tr th {\n",
       "        vertical-align: top;\n",
       "    }\n",
       "\n",
       "    .dataframe thead th {\n",
       "        text-align: right;\n",
       "    }\n",
       "</style>\n",
       "<table border=\"1\" class=\"dataframe\">\n",
       "  <thead>\n",
       "    <tr style=\"text-align: right;\">\n",
       "      <th></th>\n",
       "      <th>CustomerID</th>\n",
       "      <th>Gender</th>\n",
       "      <th>Age</th>\n",
       "      <th>Annual Income (k$)</th>\n",
       "      <th>Spending Score (1-100)</th>\n",
       "      <th>clust</th>\n",
       "    </tr>\n",
       "  </thead>\n",
       "  <tbody>\n",
       "    <tr>\n",
       "      <th>0</th>\n",
       "      <td>1</td>\n",
       "      <td>1</td>\n",
       "      <td>19</td>\n",
       "      <td>15</td>\n",
       "      <td>39</td>\n",
       "      <td>1</td>\n",
       "    </tr>\n",
       "    <tr>\n",
       "      <th>1</th>\n",
       "      <td>2</td>\n",
       "      <td>1</td>\n",
       "      <td>21</td>\n",
       "      <td>15</td>\n",
       "      <td>81</td>\n",
       "      <td>1</td>\n",
       "    </tr>\n",
       "    <tr>\n",
       "      <th>2</th>\n",
       "      <td>3</td>\n",
       "      <td>0</td>\n",
       "      <td>20</td>\n",
       "      <td>16</td>\n",
       "      <td>6</td>\n",
       "      <td>1</td>\n",
       "    </tr>\n",
       "    <tr>\n",
       "      <th>3</th>\n",
       "      <td>4</td>\n",
       "      <td>0</td>\n",
       "      <td>23</td>\n",
       "      <td>16</td>\n",
       "      <td>77</td>\n",
       "      <td>1</td>\n",
       "    </tr>\n",
       "    <tr>\n",
       "      <th>4</th>\n",
       "      <td>5</td>\n",
       "      <td>0</td>\n",
       "      <td>31</td>\n",
       "      <td>17</td>\n",
       "      <td>40</td>\n",
       "      <td>1</td>\n",
       "    </tr>\n",
       "  </tbody>\n",
       "</table>\n",
       "</div>"
      ],
      "text/plain": [
       "   CustomerID  Gender  Age  Annual Income (k$)  Spending Score (1-100)  clust\n",
       "0           1       1   19                  15                      39      1\n",
       "1           2       1   21                  15                      81      1\n",
       "2           3       0   20                  16                       6      1\n",
       "3           4       0   23                  16                      77      1\n",
       "4           5       0   31                  17                      40      1"
      ]
     },
     "execution_count": 56,
     "metadata": {},
     "output_type": "execute_result"
    }
   ],
   "source": [
    "data.head()"
   ]
  },
  {
   "cell_type": "code",
   "execution_count": 57,
   "id": "ea6d9d4b",
   "metadata": {},
   "outputs": [
    {
     "data": {
      "text/html": [
       "<div>\n",
       "<style scoped>\n",
       "    .dataframe tbody tr th:only-of-type {\n",
       "        vertical-align: middle;\n",
       "    }\n",
       "\n",
       "    .dataframe tbody tr th {\n",
       "        vertical-align: top;\n",
       "    }\n",
       "\n",
       "    .dataframe thead th {\n",
       "        text-align: right;\n",
       "    }\n",
       "</style>\n",
       "<table border=\"1\" class=\"dataframe\">\n",
       "  <thead>\n",
       "    <tr style=\"text-align: right;\">\n",
       "      <th></th>\n",
       "      <th>CustomerID</th>\n",
       "      <th>Gender</th>\n",
       "      <th>Age</th>\n",
       "      <th>Annual Income (k$)</th>\n",
       "      <th>Spending Score (1-100)</th>\n",
       "      <th>clust</th>\n",
       "    </tr>\n",
       "  </thead>\n",
       "  <tbody>\n",
       "    <tr>\n",
       "      <th>195</th>\n",
       "      <td>196</td>\n",
       "      <td>0</td>\n",
       "      <td>35</td>\n",
       "      <td>120</td>\n",
       "      <td>79</td>\n",
       "      <td>3</td>\n",
       "    </tr>\n",
       "    <tr>\n",
       "      <th>196</th>\n",
       "      <td>197</td>\n",
       "      <td>0</td>\n",
       "      <td>45</td>\n",
       "      <td>126</td>\n",
       "      <td>28</td>\n",
       "      <td>0</td>\n",
       "    </tr>\n",
       "    <tr>\n",
       "      <th>197</th>\n",
       "      <td>198</td>\n",
       "      <td>1</td>\n",
       "      <td>32</td>\n",
       "      <td>126</td>\n",
       "      <td>74</td>\n",
       "      <td>3</td>\n",
       "    </tr>\n",
       "    <tr>\n",
       "      <th>198</th>\n",
       "      <td>199</td>\n",
       "      <td>1</td>\n",
       "      <td>32</td>\n",
       "      <td>137</td>\n",
       "      <td>18</td>\n",
       "      <td>0</td>\n",
       "    </tr>\n",
       "    <tr>\n",
       "      <th>199</th>\n",
       "      <td>200</td>\n",
       "      <td>1</td>\n",
       "      <td>30</td>\n",
       "      <td>137</td>\n",
       "      <td>83</td>\n",
       "      <td>3</td>\n",
       "    </tr>\n",
       "  </tbody>\n",
       "</table>\n",
       "</div>"
      ],
      "text/plain": [
       "     CustomerID  Gender  Age  Annual Income (k$)  Spending Score (1-100)  \\\n",
       "195         196       0   35                 120                      79   \n",
       "196         197       0   45                 126                      28   \n",
       "197         198       1   32                 126                      74   \n",
       "198         199       1   32                 137                      18   \n",
       "199         200       1   30                 137                      83   \n",
       "\n",
       "     clust  \n",
       "195      3  \n",
       "196      0  \n",
       "197      3  \n",
       "198      0  \n",
       "199      3  "
      ]
     },
     "execution_count": 57,
     "metadata": {},
     "output_type": "execute_result"
    }
   ],
   "source": [
    "data.tail()"
   ]
  },
  {
   "cell_type": "code",
   "execution_count": null,
   "id": "894df71b",
   "metadata": {},
   "outputs": [],
   "source": []
  }
 ],
 "metadata": {
  "kernelspec": {
   "display_name": "Python 3",
   "language": "python",
   "name": "python3"
  },
  "language_info": {
   "codemirror_mode": {
    "name": "ipython",
    "version": 3
   },
   "file_extension": ".py",
   "mimetype": "text/x-python",
   "name": "python",
   "nbconvert_exporter": "python",
   "pygments_lexer": "ipython3",
   "version": "3.8.8"
  }
 },
 "nbformat": 4,
 "nbformat_minor": 5
}
